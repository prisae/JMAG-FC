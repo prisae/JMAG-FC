{
 "cells": [
  {
   "cell_type": "markdown",
   "id": "9d5227a5-711f-47dd-b4f4-956dcecb74b3",
   "metadata": {},
   "source": [
    "# Electromagnetic Methods: Skin Depth"
   ]
  },
  {
   "cell_type": "code",
   "execution_count": null,
   "id": "334ef0ca-1f95-4dcc-a9dc-c3dec5bcfe51",
   "metadata": {},
   "outputs": [],
   "source": [
    "import numpy as np\n",
    "import matplotlib.pyplot as plt"
   ]
  },
  {
   "cell_type": "markdown",
   "id": "534face9-4e52-400e-a907-683a025703aa",
   "metadata": {},
   "source": [
    "### Input parameters"
   ]
  },
  {
   "cell_type": "code",
   "execution_count": null,
   "id": "d88e202f-981c-4124-bf56-033ccc7a8a67",
   "metadata": {},
   "outputs": [],
   "source": [
    "# Offset in [m] (option 1, 2, 3 of the PROMIS instrument)\n",
    "dx1 = 20   \n",
    "dx2 = 50\n",
    "dx3 = 100\n",
    "\n",
    "# Frequency of the PROMIS instrument in [Hz]\n",
    "f = np.array([110.0, 220, 440, 880, 1760, 3520, 7040, 14080, 28160, 56320])\n",
    "omega = 2 * np.pi * f  # Angular frequency\n",
    "\n",
    "# Depth axis in [m]\n",
    "z = np.arange(2501)/10  \n",
    "\n",
    "# offset normalized depth axis for offseta dx1, dx2, dx3\n",
    "z_norm1 = # TO DEFINE\n",
    "z_norm2 = # TO DEFINE\n",
    "z_norm3 = # TO DEFINE\n",
    "\n",
    "sigma = 0.05         # Electric conductivity of the subsurface in [S/m]\n",
    "mu_0 = 4*np.pi*1e-7  # Magnetic permeability in vacuum in [H/m]\n",
    "mu_r = 1             # Relative magnetic permeability of the subsurface [-]\n",
    "mu = mu_0*mu_r       # Magnetic permeability of the subsurface in [H/m]"
   ]
  },
  {
   "cell_type": "markdown",
   "id": "f3fa5f71-845b-41de-89f4-f3834c8b5cc9",
   "metadata": {},
   "source": [
    "### Calculate skin depth for all frequencies                          \n",
    "Compute skin depth delta as a function of angular frequency omega, ground conductivity sigma, and magnetic permeability mu,\n",
    "\n",
    "$$ \\delta = \\sqrt{\\frac{2}{\\sigma\\mu\\omega}} \\ .$$"
   ]
  },
  {
   "cell_type": "code",
   "execution_count": null,
   "id": "0f959f6f-f945-44cf-9ebe-927af32abf53",
   "metadata": {},
   "outputs": [],
   "source": [
    "# Skin depth delta\n",
    "delta = # TO DEFINE\n",
    "\n",
    "# Calculate and plot sensitivity curves for the three offsets dx1, dx2 and dx3:\n",
    "phi_HCP1 = 4*z_norm1 / (4*z_norm1**2 + 1)**(3/2)\n",
    "phi_HCP2 = # TO DEFINE\n",
    "phi_HCP3 = # TO DEFINE"
   ]
  },
  {
   "cell_type": "markdown",
   "id": "96c52b93-e461-46c4-b15a-747da619ea2a",
   "metadata": {},
   "source": [
    "### Plot skin depth and sensitivity curves"
   ]
  },
  {
   "cell_type": "code",
   "execution_count": null,
   "id": "8983091c-4c52-467f-b4ac-b5f7709c6155",
   "metadata": {},
   "outputs": [],
   "source": [
    "fig, axs = plt.subplots(2, 2, figsize=(10, 6), constrained_layout=True)\n",
    "(ax1, ax2), (ax3, ax4) = axs\n",
    "\n",
    "# Skin depth as a function of frequency\n",
    "ax1.plot(delta, omega/(2*np.pi), 'ko')\n",
    "ax1.plot(max(delta), min(omega)/(2*np.pi), 'ro')\n",
    "ax1.plot(min(delta), max(omega)/(2*np.pi), 'bo')\n",
    "ax1.set_yscale('log')\n",
    "ax1.set_xlabel('Skin depth [m]')\n",
    "ax1.set_ylabel('Frequency [Hz]')\n",
    "\n",
    "# Sensitivities\n",
    "ax2.plot(z, phi_HCP1, 'k-', label=f'Sensitivity for dx = {dx1:.1f} m')\n",
    "ax3.plot(z, phi_HCP2, 'k-', label=f'Sensitivity for dx = {dx3:.1f} m')\n",
    "ax4.plot(z, phi_HCP3, 'k-', label=f'Sensitivity for dx = {dx3:.1f} m')\n",
    "\n",
    "# Labels etc\n",
    "for ax in [ax2, ax3, ax4]:\n",
    "    ax.axvline(min(delta), c='b', label=f'Skin depth (for f = {max(f):.0f} Hz)')\n",
    "    ax.axvline(max(delta), c='r', label=f'Skin depth (for f = {min(f):.0f} Hz)')\n",
    "    ax.set_xlabel('depth [m]')\n",
    "    ax.set_ylabel('sensitivity [-]')\n",
    "    ax.legend()"
   ]
  }
 ],
 "metadata": {
  "kernelspec": {
   "display_name": "Python 3 (ipykernel)",
   "language": "python",
   "name": "python3"
  },
  "language_info": {
   "codemirror_mode": {
    "name": "ipython",
    "version": 3
   },
   "file_extension": ".py",
   "mimetype": "text/x-python",
   "name": "python",
   "nbconvert_exporter": "python",
   "pygments_lexer": "ipython3",
   "version": "3.12.8"
  }
 },
 "nbformat": 4,
 "nbformat_minor": 5
}
